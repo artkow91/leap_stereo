{
 "cells": [
  {
   "cell_type": "code",
   "execution_count": 1,
   "metadata": {
    "collapsed": false
   },
   "outputs": [],
   "source": [
    "import sys\n",
    "import Leap\n",
    "import time\n",
    "import Image\n",
    "import numpy as np\n",
    "import cv2\n",
    "import cv2.cv as cv\n",
    "import ctypes\n"
   ]
  },
  {
   "cell_type": "code",
   "execution_count": 2,
   "metadata": {
    "collapsed": false
   },
   "outputs": [],
   "source": [
    "controller=Leap.Controller()"
   ]
  },
  {
   "cell_type": "code",
   "execution_count": 3,
   "metadata": {
    "collapsed": false
   },
   "outputs": [
    {
     "data": {
      "text/plain": [
       "True"
      ]
     },
     "execution_count": 3,
     "metadata": {},
     "output_type": "execute_result"
    }
   ],
   "source": [
    "controller.is_connected"
   ]
  },
  {
   "cell_type": "code",
   "execution_count": 4,
   "metadata": {
    "collapsed": false
   },
   "outputs": [
    {
     "data": {
      "text/plain": [
       "True"
      ]
     },
     "execution_count": 4,
     "metadata": {},
     "output_type": "execute_result"
    }
   ],
   "source": [
    "ramka=controller.frame()\n",
    "ramka.images.is_empty"
   ]
  },
  {
   "cell_type": "code",
   "execution_count": 5,
   "metadata": {
    "collapsed": false
   },
   "outputs": [],
   "source": [
    "################################################################################\n",
    "# Copyright (C) 2012-2013 Leap Motion, Inc. All rights reserved.               #\n",
    "# Leap Motion proprietary and confidential. Not for distribution.              #\n",
    "# Use subject to the terms of the Leap Motion SDK Agreement available at       #\n",
    "# https://developer.leapmotion.com/sdk_agreement, or another agreement         #\n",
    "# between Leap Motion and you, your company or other organization.             #\n",
    "################################################################################\n",
    "import sys\n",
    "\n",
    "\n",
    "\n",
    "import Leap, sys, thread, time\n",
    "from Leap import CircleGesture, KeyTapGesture, ScreenTapGesture, SwipeGesture\n",
    "\n",
    "\n",
    "class SampleListener(Leap.Listener):\n",
    "    finger_names = ['Thumb', 'Index', 'Middle', 'Ring', 'Pinky']\n",
    "    bone_names = ['Metacarpal', 'Proximal', 'Intermediate', 'Distal']\n",
    "    state_names = ['STATE_INVALID', 'STATE_START', 'STATE_UPDATE', 'STATE_END']\n",
    "\n",
    "    def on_init(self, controller):\n",
    "        print \"Initialized\"\n",
    "\n",
    "    def on_connect(self, controller):\n",
    "        print \"Connected\"\n",
    "\n",
    "        # Enable gestures\n",
    "        controller.enable_gesture(Leap.Gesture.TYPE_CIRCLE);\n",
    "        controller.enable_gesture(Leap.Gesture.TYPE_KEY_TAP);\n",
    "        controller.enable_gesture(Leap.Gesture.TYPE_SCREEN_TAP);\n",
    "        controller.enable_gesture(Leap.Gesture.TYPE_SWIPE);\n",
    "        \n",
    "        #### Enable camera images !!!\n",
    "        controller.set_policy(Leap.Controller.POLICY_IMAGES)\n",
    "        controller.set_policy(Leap.Controller.POLICY_OPTIMIZE_HMD)\n",
    "    \n",
    "    \n",
    "    def on_disconnect(self, controller):\n",
    "        # Note: not dispatched when running in a debugger.\n",
    "        print \"Disconnected\"\n",
    "\n",
    "    def on_exit(self, controller):\n",
    "        print \"Exited\"\n",
    "\n",
    "    def on_frame(self, controller):\n",
    "        # Get the most recent frame and report some basic information\n",
    "        frame = controller.frame()\n",
    "        self.frame=frame\n",
    "\n",
    "\n",
    "    def state_string(self, state):\n",
    "        if state == Leap.Gesture.STATE_START:\n",
    "            return \"STATE_START\"\n",
    "\n",
    "        if state == Leap.Gesture.STATE_UPDATE:\n",
    "            return \"STATE_UPDATE\"\n",
    "\n",
    "        if state == Leap.Gesture.STATE_STOP:\n",
    "            return \"STATE_STOP\"\n",
    "\n",
    "        if state == Leap.Gesture.STATE_INVALID:\n",
    "            return \"STATE_INVALID\"\n",
    "\n",
    "\n",
    "\n",
    "\n",
    "    # Keep this process running until Enter is pressed\n"
   ]
  },
  {
   "cell_type": "code",
   "execution_count": 6,
   "metadata": {
    "collapsed": false
   },
   "outputs": [
    {
     "name": "stdout",
     "output_type": "stream",
     "text": [
      "Initialized\n",
      "Connected\n"
     ]
    },
    {
     "data": {
      "text/plain": [
       "True"
      ]
     },
     "execution_count": 6,
     "metadata": {},
     "output_type": "execute_result"
    }
   ],
   "source": [
    "listener = SampleListener()\n",
    "controller = Leap.Controller()\n",
    "\n",
    "    # Have the sample listener receive events from the controller\n",
    "controller.add_listener(listener)"
   ]
  },
  {
   "cell_type": "code",
   "execution_count": 7,
   "metadata": {
    "collapsed": false
   },
   "outputs": [],
   "source": [
    "listener.frame.id\n",
    "listener.frame.is_valid\n",
    "imgs = listener.frame.images"
   ]
  },
  {
   "cell_type": "code",
   "execution_count": 8,
   "metadata": {
    "collapsed": false
   },
   "outputs": [
    {
     "name": "stdout",
     "output_type": "stream",
     "text": [
      "yolo\n"
     ]
    }
   ],
   "source": [
    "if (str(listener.frame.is_valid)=='True'):\n",
    "    print \"yolo\""
   ]
  },
  {
   "cell_type": "code",
   "execution_count": 9,
   "metadata": {
    "collapsed": false
   },
   "outputs": [],
   "source": [
    "obrazek_left=imgs[0]\n",
    "obrazek_right=imgs[1]"
   ]
  },
  {
   "cell_type": "code",
   "execution_count": 10,
   "metadata": {
    "collapsed": false
   },
   "outputs": [
    {
     "name": "stderr",
     "output_type": "stream",
     "text": [
      "/usr/local/lib/python2.7/dist-packages/IPython/kernel/__main__.py:4: RuntimeWarning: Item size computed from the PEP 3118 buffer format string does not match the actual item size.\n"
     ]
    }
   ],
   "source": [
    "leap_img=obrazek_left\n",
    "\n",
    "imdata = ctypes.cast(leap_img.data.cast().__long__(), ctypes.POINTER(leap_img.width*leap_img.height*ctypes.c_ubyte)).contents\n",
    "obraz_z_kamery_left=np.reshape(np.array(imdata,'int'),(leap_img.height,leap_img.width))"
   ]
  },
  {
   "cell_type": "code",
   "execution_count": 11,
   "metadata": {
    "collapsed": false
   },
   "outputs": [],
   "source": [
    "from skimage import data, io, filters"
   ]
  },
  {
   "cell_type": "code",
   "execution_count": 12,
   "metadata": {
    "collapsed": false
   },
   "outputs": [
    {
     "name": "stderr",
     "output_type": "stream",
     "text": [
      "/usr/local/lib/python2.7/dist-packages/scikit_image-0.11.3-py2.7-linux-x86_64.egg/skimage/io/_plugins/matplotlib_plugin.py:71: UserWarning: Non-standard image type; displaying image with stretched contrast.\n",
      "  warnings.warn(\"Non-standard image type; displaying image with \"\n",
      "/usr/local/lib/python2.7/dist-packages/scikit_image-0.11.3-py2.7-linux-x86_64.egg/skimage/io/_plugins/matplotlib_plugin.py:74: UserWarning: Low image dynamic range; displaying image with stretched contrast.\n",
      "  warnings.warn(\"Low image dynamic range; displaying image with \"\n"
     ]
    }
   ],
   "source": [
    "io.imshow(obraz_z_kamery_left)\n",
    "io.show()"
   ]
  },
  {
   "cell_type": "code",
   "execution_count": 14,
   "metadata": {
    "collapsed": false
   },
   "outputs": [],
   "source": [
    "#io.imsave('zrzut_obrazu_lewy.png',obraz_z_kamery_left)"
   ]
  },
  {
   "cell_type": "code",
   "execution_count": 13,
   "metadata": {
    "collapsed": false
   },
   "outputs": [
    {
     "name": "stdout",
     "output_type": "stream",
     "text": [
      "wysokość:   120\n",
      "szerokosc:  640\n"
     ]
    }
   ],
   "source": [
    "wysokosc = obrazek_left.height\n",
    "print \"wysokość:   %d\" % wysokosc\n",
    "print \"szerokosc:  %d\" % obrazek_left.width"
   ]
  },
  {
   "cell_type": "code",
   "execution_count": 14,
   "metadata": {
    "collapsed": false
   },
   "outputs": [
    {
     "data": {
      "text/plain": [
       "0.5"
      ]
     },
     "execution_count": 14,
     "metadata": {},
     "output_type": "execute_result"
    }
   ],
   "source": [
    "obrazek_left.ray_offset_x"
   ]
  },
  {
   "cell_type": "code",
   "execution_count": 15,
   "metadata": {
    "collapsed": false
   },
   "outputs": [
    {
     "name": "stdout",
     "output_type": "stream",
     "text": [
      "The length of data buffer is: %d\n",
      "Wysokość * szerokość: 76800\n"
     ]
    }
   ],
   "source": [
    "print \"The length of data buffer is: %d\"\n",
    "print \"Wysokość * szerokość: %d\" %(obrazek_left.width*obrazek_left.height)"
   ]
  },
  {
   "cell_type": "code",
   "execution_count": 16,
   "metadata": {
    "collapsed": false
   },
   "outputs": [
    {
     "name": "stdout",
     "output_type": "stream",
     "text": [
      "64\n",
      "128\n"
     ]
    }
   ],
   "source": [
    "print obrazek_left.distortion_height\n",
    "print obrazek_left.distortion_width"
   ]
  },
  {
   "cell_type": "code",
   "execution_count": 17,
   "metadata": {
    "collapsed": false
   },
   "outputs": [
    {
     "name": "stdout",
     "output_type": "stream",
     "text": [
      "(-3.44831, -2.69574, 0)\n"
     ]
    }
   ],
   "source": [
    "uv = Leap.Vector(0,0,0)\n",
    "print obrazek_left.rectify(uv)"
   ]
  },
  {
   "cell_type": "code",
   "execution_count": 18,
   "metadata": {
    "collapsed": false
   },
   "outputs": [
    {
     "name": "stdout",
     "output_type": "stream",
     "text": [
      "6\n",
      "5\n",
      "6\n",
      "6\n",
      "7\n",
      "5\n",
      "5\n",
      "6\n",
      "5\n",
      "6\n"
     ]
    }
   ],
   "source": [
    "imageData = obrazek_left.data\n",
    "for i in range (10):\n",
    "    print imageData[i]\n"
   ]
  },
  {
   "cell_type": "code",
   "execution_count": 19,
   "metadata": {
    "collapsed": false
   },
   "outputs": [
    {
     "data": {
      "text/plain": [
       "array([[ 6,  5,  6, ...,  3,  3,  6],\n",
       "       [ 8,  6,  7, ...,  4,  5,  5],\n",
       "       [ 5,  6,  5, ...,  4,  4,  5],\n",
       "       ..., \n",
       "       [ 3,  5,  4, ..., 12, 12,  9],\n",
       "       [ 4,  4,  3, ...,  7,  9, 10],\n",
       "       [ 4,  6,  3, ..., 31, 31, 23]])"
      ]
     },
     "execution_count": 19,
     "metadata": {},
     "output_type": "execute_result"
    }
   ],
   "source": [
    "obraz_z_kamery_left"
   ]
  },
  {
   "cell_type": "code",
   "execution_count": 20,
   "metadata": {
    "collapsed": false
   },
   "outputs": [],
   "source": [
    "a = np.array(obraz_z_kamery_left).tolist()"
   ]
  },
  {
   "cell_type": "code",
   "execution_count": 20,
   "metadata": {
    "collapsed": false
   },
   "outputs": [
    {
     "name": "stdout",
     "output_type": "stream",
     "text": [
      "5\n",
      "0\n",
      "0\n",
      "0\n",
      "0\n",
      "0\n",
      "0\n",
      "0\n",
      "5\n",
      "0\n"
     ]
    }
   ],
   "source": [
    "for i in range(10):\n",
    "    print imdata[i]"
   ]
  },
  {
   "cell_type": "code",
   "execution_count": 23,
   "metadata": {
    "collapsed": false
   },
   "outputs": [
    {
     "name": "stdout",
     "output_type": "stream",
     "text": [
      "240\n",
      "640\n"
     ]
    }
   ],
   "source": [
    "print len(obraz_z_kamery_left)\n",
    "print len(obraz_z_kamery_left[0])"
   ]
  },
  {
   "cell_type": "code",
   "execution_count": 24,
   "metadata": {
    "collapsed": false
   },
   "outputs": [
    {
     "name": "stdout",
     "output_type": "stream",
     "text": [
      "0b10011\n",
      "19\n",
      "5\n",
      "5\n"
     ]
    }
   ],
   "source": [
    "print bin(imageData[55307])\n",
    "print imageData[55307]\n",
    "n = imageData[55307]\n",
    "print n.bit_length()\n",
    "n = obraz_z_kamery_left[86][267]\n",
    "print n.bit_length()"
   ]
  },
  {
   "cell_type": "code",
   "execution_count": 25,
   "metadata": {
    "collapsed": false
   },
   "outputs": [
    {
     "name": "stdout",
     "output_type": "stream",
     "text": [
      "120\n",
      "153594\n"
     ]
    }
   ],
   "source": [
    "number = 0\n",
    "value = 0\n",
    "for i in range (obrazek_left.width*obrazek_left.height):\n",
    "    if imageData[i]>value:\n",
    "        value = imageData[i]\n",
    "        number = i\n",
    "print value\n",
    "print number"
   ]
  },
  {
   "cell_type": "code",
   "execution_count": 26,
   "metadata": {
    "collapsed": false
   },
   "outputs": [
    {
     "data": {
      "text/plain": [
       "153600"
      ]
     },
     "execution_count": 26,
     "metadata": {},
     "output_type": "execute_result"
    }
   ],
   "source": [
    "len(imdata)"
   ]
  },
  {
   "cell_type": "code",
   "execution_count": null,
   "metadata": {
    "collapsed": true
   },
   "outputs": [],
   "source": []
  }
 ],
 "metadata": {
  "kernelspec": {
   "display_name": "Python 2",
   "language": "python",
   "name": "python2"
  },
  "language_info": {
   "codemirror_mode": {
    "name": "ipython",
    "version": 2
   },
   "file_extension": ".py",
   "mimetype": "text/x-python",
   "name": "python",
   "nbconvert_exporter": "python",
   "pygments_lexer": "ipython2",
   "version": "2.7.3"
  }
 },
 "nbformat": 4,
 "nbformat_minor": 0
}
